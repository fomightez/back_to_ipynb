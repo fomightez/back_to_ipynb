{
 "cells": [
  {
   "cell_type": "markdown",
   "metadata": {},
   "source": [
    "# HTML of a notebook back to .ipynb file\n",
    "\n",
    "Based on https://stackoverflow.com/a/47138762/8508004\n",
    "\n",
    "-----\n",
    "\n",
    "<div class=\"alert alert-block alert-warning\">\n",
    "<p>If you haven't used one of these notebooks before, they're basically web pages in which you can write, edit, and run live code. They're meant to encourage experimentation, so don't feel nervous. Just try running a few cells and see what happens!.</p>\n",
    "\n",
    "<p>\n",
    "    Some tips:\n",
    "    <ul>\n",
    "        <li>Code cells have boxes around them.</li>\n",
    "        <li>To run a code cell, click on the cell and either click the <i class=\"fa-play fa\"></i> button on the toolbar above, or then hit <b>Shift+Enter</b>. The <b>Shift+Enter</b> combo will also move you to the next cell, so it's a quick way to work through the notebook. Selecting from the menu above the toolbar, <b>Cell</b> > <b>Run All</b> is a shortcut to trigger attempting to run all the cells in the notebook.</li>\n",
    "        <li>While a cell is running a <b>*</b> appears in the square brackets next to the cell. Once the cell has finished running the asterisk will be replaced with a number.</li>\n",
    "        <li>In most cases you'll want to start from the top of notebook and work your way down running each cell in turn. Later cells might depend on the results of earlier ones.</li>\n",
    "        <li>To edit a code cell, just click on it and type stuff. Remember to run the cell once you've finished editing.</li>\n",
    "    </ul>\n",
    "</p>\n",
    "</div>\n",
    "\n",
    "----\n",
    "\n",
    "## Preparation\n",
    "\n",
    "Note in addition to the necessary package needing to be installed, the other difference from [the original code](https://stackoverflow.com/a/47138762/8508004) is that the link used in the example as a source of HTML is now longer valid. I'm going to substitute another one of Jake VanderPlas's notebooks. Specifically, instead of the link `http://nbviewer.jupyter.org/url/jakevdp.github.com/downloads/notebooks/XKCD_plots.ipynb`, I'm using `https://nbviewer.org/github/jakevdp/2014_fall_ASTR599/blob/master/notebooks/03_IPython_intro.ipynb`. \n",
    "\n",
    "The code cell below will take that script with the change and save it here in the working directory. Run this cell:"
   ]
  },
  {
   "cell_type": "code",
   "execution_count": 1,
   "metadata": {},
   "outputs": [
    {
     "name": "stdout",
     "output_type": "stream",
     "text": [
      "Writing 't' (str) to file 'back_to_the_ipynb_script.py'.\n"
     ]
    }
   ],
   "source": [
    "t = '''from bs4 import BeautifulSoup\n",
    "import json\n",
    "import urllib.request\n",
    "url = 'https://nbviewer.org/github/jakevdp/2014_fall_ASTR599/blob/master/notebooks/03_IPython_intro.ipynb'\n",
    "response = urllib.request.urlopen(url)\n",
    "#  for local html file\n",
    "# response = open(\"/Users/note/jupyter/notebook.html\")\n",
    "text = response.read()\n",
    "\n",
    "soup = BeautifulSoup(text, 'lxml')\n",
    "# see some of the html\n",
    "print(soup.div)\n",
    "dictionary = {'nbformat': 4, 'nbformat_minor': 1, 'cells': [], 'metadata': {}}\n",
    "for d in soup.findAll(\"div\"):\n",
    "    if 'class' in d.attrs.keys():\n",
    "        for clas in d.attrs[\"class\"]:\n",
    "            if clas in [\"text_cell_render\", \"input_area\"]:\n",
    "                # code cell\n",
    "                if clas == \"input_area\":\n",
    "                    cell = {}\n",
    "                    cell['metadata'] = {}\n",
    "                    cell['outputs'] = []\n",
    "                    cell['source'] = [d.get_text()]\n",
    "                    cell['execution_count'] = None\n",
    "                    cell['cell_type'] = 'code'\n",
    "                    dictionary['cells'].append(cell)\n",
    "\n",
    "                else:\n",
    "                    cell = {}\n",
    "                    cell['metadata'] = {}\n",
    "\n",
    "                    cell['source'] = [d.decode_contents()]\n",
    "                    cell['cell_type'] = 'markdown'\n",
    "                    dictionary['cells'].append(cell)\n",
    "open('notebook.ipynb', 'w').write(json.dumps(dictionary))\n",
    "'''\n",
    "%store t >back_to_the_ipynb_script.py"
   ]
  },
  {
   "cell_type": "markdown",
   "metadata": {},
   "source": [
    "You should now see `back_to_the_ipynb_script.py` listed in the file browser on the left."
   ]
  },
  {
   "cell_type": "code",
   "execution_count": 2,
   "metadata": {},
   "outputs": [
    {
     "name": "stdout",
     "output_type": "stream",
     "text": [
      "Requirement already satisfied: beautifulsoup4 in /srv/conda/envs/notebook/lib/python3.7/site-packages (4.11.1)\n",
      "Requirement already satisfied: soupsieve>1.2 in /srv/conda/envs/notebook/lib/python3.7/site-packages (from beautifulsoup4) (2.3.2.post1)\n",
      "Note: you may need to restart the kernel to use updated packages.\n",
      "Collecting lxml\n",
      "  Downloading lxml-4.9.1-cp37-cp37m-manylinux_2_17_x86_64.manylinux2014_x86_64.manylinux_2_24_x86_64.whl (6.4 MB)\n",
      "\u001b[2K     \u001b[90m━━━━━━━━━━━━━━━━━━━━━━━━━━━━━━━━━━━━━━━━\u001b[0m \u001b[32m6.4/6.4 MB\u001b[0m \u001b[31m15.6 MB/s\u001b[0m eta \u001b[36m0:00:00\u001b[0m00:01\u001b[0m00:01\u001b[0m\n",
      "\u001b[?25hInstalling collected packages: lxml\n",
      "Successfully installed lxml-4.9.1\n",
      "Note: you may need to restart the kernel to use updated packages.\n"
     ]
    }
   ],
   "source": [
    "%pip install beautifulsoup4\n",
    "%pip install lxml"
   ]
  },
  {
   "cell_type": "markdown",
   "metadata": {},
   "source": [
    "(When I installed lxml separate from `beautifulsoup4` during a development round, I found I needed to restart the kernel before it got used. Your experience may vary. In fact, when I ran this demonstration notebook fresh and installed both in one cell, it worked without restarting the kernl. However, doing a restart if of the kernel and trying again is something to keep in mind if you get a note about `lxml` when you try to run the code cell below.)"
   ]
  },
  {
   "cell_type": "markdown",
   "metadata": {},
   "source": [
    "## Basic Usage Example from the source\n",
    "\n",
    "The difference in notebook used is noted under the preparation section."
   ]
  },
  {
   "cell_type": "code",
   "execution_count": 3,
   "metadata": {},
   "outputs": [
    {
     "name": "stdout",
     "output_type": "stream",
     "text": [
      "<div class=\"container\">\n",
      "<div class=\"navbar-header\">\n",
      "<button class=\"navbar-toggle collapsed\" data-target=\".navbar-collapse\" data-toggle=\"collapse\" type=\"button\">\n",
      "<span class=\"sr-only\">Toggle navigation</span>\n",
      "<i class=\"fa fa-bars\"></i>\n",
      "</button>\n",
      "<a class=\"navbar-brand\" href=\"/\">\n",
      "<img src=\"/static/img/nav_logo.svg\" width=\"159\"/>\n",
      "</a>\n",
      "</div>\n",
      "<div class=\"collapse navbar-collapse\">\n",
      "<ul class=\"nav navbar-nav navbar-right\">\n",
      "<li>\n",
      "<a class=\"active\" href=\"http://jupyter.org\">JUPYTER</a>\n",
      "</li>\n",
      "<li>\n",
      "<a href=\"/faq\" title=\"FAQ\">\n",
      "<span>FAQ</span>\n",
      "</a>\n",
      "</li>\n",
      "<li>\n",
      "<a href=\"slides/github/jakevdp/2014_fall_ASTR599/blob/master/notebooks/03_IPython_intro.ipynb\" title=\"View as Slides\">\n",
      "<span class=\"fa fa-gift fa-2x menu-icon\"></span>\n",
      "<span class=\"menu-text\">View as Slides</span>\n",
      "</a>\n",
      "</li>\n",
      "<li>\n",
      "<a href=\"script/github/jakevdp/2014_fall_ASTR599/blob/master/notebooks/03_IPython_intro.ipynb\" title=\"View as Code\">\n",
      "<span class=\"fa fa-code fa-2x menu-icon\"></span>\n",
      "<span class=\"menu-text\">View as Code</span>\n",
      "</a>\n",
      "</li>\n",
      "<li>\n",
      "<a href=\"https://github.com/jakevdp/2014_fall_ASTR599/blob/master/notebooks/03_IPython_intro.ipynb\" title=\"View on GitHub\">\n",
      "<span class=\"fa fa-github fa-2x menu-icon\"></span>\n",
      "<span class=\"menu-text\">View on GitHub</span>\n",
      "</a>\n",
      "</li>\n",
      "<li>\n",
      "<a href=\"https://mybinder.org/v2/gh/jakevdp/2014_fall_ASTR599/master?filepath=notebooks/03_IPython_intro.ipynb\" title=\"Execute on Binder\">\n",
      "<span class=\"fa fa-icon-binder fa-2x menu-icon\"></span>\n",
      "<span class=\"menu-text\">Execute on Binder</span>\n",
      "</a>\n",
      "</li>\n",
      "<li>\n",
      "<a download=\"\" href=\"https://raw.githubusercontent.com/jakevdp/2014_fall_ASTR599/master/notebooks/03_IPython_intro.ipynb\" title=\"Download Notebook\">\n",
      "<span class=\"fa fa-download fa-2x menu-icon\"></span>\n",
      "<span class=\"menu-text\">Download Notebook</span>\n",
      "</a>\n",
      "</li>\n",
      "</ul>\n",
      "</div><!-- /.navbar-collapse -->\n",
      "</div>\n"
     ]
    }
   ],
   "source": [
    "%run back_to_the_ipynb_script.py"
   ]
  },
  {
   "cell_type": "markdown",
   "metadata": {},
   "source": [
    "Because of the `print(soup.div)` line it prints out some indicator of an early step in the process above. That isn't the result though, and you can feel free to comment out that line to not have that show.\n",
    "\n",
    "To look at the result, double-click on `notebook.ipynb` in the file listing panel on the left to actually open it as a Jupyter notebook.\n",
    "\n",
    "You'll see it isn't perfect, for example, in regards to white space in code cells; however, it is pretty good. In fact, if you look close, you can see this whitespace issue in the post about this converter [here](https://stackoverflow.com/a/47138762/8508004). This is that image:\n",
    "\n",
    "![the example at SO](https://i.stack.imgur.com/1SMvZ.png)."
   ]
  },
  {
   "cell_type": "markdown",
   "metadata": {},
   "source": [
    "Personally, I would have used [nbformat](https://stackoverflow.com/a/71244733/8508004) to handle the collecting of the cells and generating the notebook. You can find several examples of my use of it [here](https://stackoverflow.com/search?tab=newest&q=user%3a8508004%20nbformat) and [here](https://discourse.jupyter.org/search?q=nbformat%20%40fomightez%20order%3Alatest). However, I don't know if it would improve readbility of the script or ultimate functionality at this point, and so maybe another time."
   ]
  },
  {
   "cell_type": "markdown",
   "metadata": {},
   "source": [
    "----\n",
    "\n",
    "Enjoy!"
   ]
  }
 ],
 "metadata": {
  "kernelspec": {
   "display_name": "Python 3 (ipykernel)",
   "language": "python",
   "name": "python3"
  },
  "language_info": {
   "codemirror_mode": {
    "name": "ipython",
    "version": 3
   },
   "file_extension": ".py",
   "mimetype": "text/x-python",
   "name": "python",
   "nbconvert_exporter": "python",
   "pygments_lexer": "ipython3",
   "version": "3.7.12"
  }
 },
 "nbformat": 4,
 "nbformat_minor": 4
}

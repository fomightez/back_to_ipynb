{
 "cells": [
  {
   "cell_type": "markdown",
   "metadata": {},
   "source": [
    "# HTML of a notebook back to .ipynb file\n",
    "\n",
    "Based on https://stackoverflow.com/a/47138762/8508004\n",
    "\n",
    "-----\n",
    "\n",
    "<div class=\"alert alert-block alert-warning\">\n",
    "<p>If you haven't used one of these notebooks before, they're basically web pages in which you can write, edit, and run live code. They're meant to encourage experimentation, so don't feel nervous. Just try running a few cells and see what happens!.</p>\n",
    "\n",
    "<p>\n",
    "    Some tips:\n",
    "    <ul>\n",
    "        <li>Code cells have boxes around them.</li>\n",
    "        <li>To run a code cell, click on the cell and either click the <i class=\"fa-play fa\"></i> button on the toolbar above, or then hit <b>Shift+Enter</b>. The <b>Shift+Enter</b> combo will also move you to the next cell, so it's a quick way to work through the notebook. Selecting from the menu above the toolbar, <b>Cell</b> > <b>Run All</b> is a shortcut to trigger attempting to run all the cells in the notebook.</li>\n",
    "        <li>While a cell is running a <b>*</b> appears in the square brackets next to the cell. Once the cell has finished running the asterisk will be replaced with a number.</li>\n",
    "        <li>In most cases you'll want to start from the top of notebook and work your way down running each cell in turn. Later cells might depend on the results of earlier ones.</li>\n",
    "        <li>To edit a code cell, just click on it and type stuff. Remember to run the cell once you've finished editing.</li>\n",
    "    </ul>\n",
    "</p>\n",
    "</div>\n",
    "\n",
    "----\n",
    "\n",
    "## Preparation\n",
    "\n",
    "Note in addition to the necessary package needing to be installed, another difference from [the original code](https://stackoverflow.com/a/47138762/8508004) is that the link used in the example as a source of HTML is now longer valid. I'm going to substitute another one of Jake VanderPlas' notebooks. Specifically, instead of the link `http://nbviewer.jupyter.org/url/jakevdp.github.com/downloads/notebooks/XKCD_plots.ipynb`, I'm using `https://nbviewer.org/github/jakevdp/2014_fall_ASTR599/blob/master/notebooks/03_IPython_intro.ipynb`.  \n",
    "(The 'XKCD notebook' is avalable from `https://nbviewer.org/github/lyndsysimon/pyre/blob/master/XKCD_plots.ipynb` and could be used as well.)\n",
    "\n",
    "A huge difference from [the original code](https://stackoverflow.com/a/47138762/8508004) is that tags used have changed.  We needed to update the tags used in the code to sort cells and elements of the notebook out of the HTML to match what nbconvert is currently generating. (If you are havng problems, and things are coming out blank, then maybe you are using something that indeed still has the old tags. For example, you could be using an HTML file generated many months ago that you had downloaded. See a version of the code using those old tags [here](https://nbviewer.org/github/fomightez/back_to_ipynb/blob/8edeba7071c30f2a5abe48cb19592f85b2e935ce/back_to_the_ipynb_demo.ipynb) and try replacing the code below with that and see what happens.)\n",
    "\n",
    "The code cell below will take that script with the change and save it here in the working directory. Run this cell:"
   ]
  },
  {
   "cell_type": "code",
   "execution_count": 1,
   "metadata": {},
   "outputs": [
    {
     "name": "stdout",
     "output_type": "stream",
     "text": [
      "Writing 't' (str) to file 'back_to_the_ipynb_script.py'.\n"
     ]
    }
   ],
   "source": [
    "t = '''from bs4 import BeautifulSoup\n",
    "import json\n",
    "import urllib.request\n",
    "url = 'https://perso.crans.org/besson/notebooks/agreg/Mediane_des_medianes__selection_en_temps_lineaire.html'\n",
    "response = urllib.request.urlopen(url)\n",
    "#  for local html file\n",
    "# response = open(\"/Users/note/jupyter/notebook.html\")\n",
    "text = response.read()\n",
    "\n",
    "soup = BeautifulSoup(text, 'lxml')\n",
    "# see some of the html\n",
    "print(soup.div)\n",
    "dictionary = {'nbformat': 4, 'nbformat_minor': 1, 'cells': [], 'metadata': {}}\n",
    "for d in soup.findAll(\"div\"):\n",
    "    if 'class' in d.attrs.keys():\n",
    "        for clas in d.attrs[\"class\"]:\n",
    "            if clas in [\"jp-RenderedMarkdown\", \"jp-InputArea-editor\"]:\n",
    "                # code cell\n",
    "                if clas == \"jp-InputArea-editor\":\n",
    "                    cell = {}\n",
    "                    cell['metadata'] = {}\n",
    "                    #cell['outputs'] = []\n",
    "                    cell['source'] = [d.get_text()]\n",
    "                    cell['execution_count'] = None\n",
    "                    cell['cell_type'] = 'code'\n",
    "                    dictionary['cells'].append(cell)\n",
    "\n",
    "                else:\n",
    "                    cell = {}\n",
    "                    cell['metadata'] = {}\n",
    "\n",
    "                    cell['source'] = [d.decode_contents()]\n",
    "                    cell['cell_type'] = 'markdown'\n",
    "                    dictionary['cells'].append(cell)\n",
    "open('notebook.ipynb', 'w').write(json.dumps(dictionary))\n",
    "'''\n",
    "%store t >back_to_the_ipynb_script.py"
   ]
  },
  {
   "cell_type": "markdown",
   "metadata": {},
   "source": [
    "You should now see `back_to_the_ipynb_script.py` listed in the file browser on the left."
   ]
  },
  {
   "cell_type": "code",
   "execution_count": 2,
   "metadata": {},
   "outputs": [
    {
     "name": "stdout",
     "output_type": "stream",
     "text": [
      "Requirement already satisfied: beautifulsoup4 in /srv/conda/envs/notebook/lib/python3.10/site-packages (4.11.2)\n",
      "Requirement already satisfied: soupsieve>1.2 in /srv/conda/envs/notebook/lib/python3.10/site-packages (from beautifulsoup4) (2.3.2.post1)\n",
      "Note: you may need to restart the kernel to use updated packages.\n",
      "Collecting lxml\n",
      "  Downloading lxml-4.9.2-cp310-cp310-manylinux_2_17_x86_64.manylinux2014_x86_64.manylinux_2_24_x86_64.whl (7.1 MB)\n",
      "\u001b[2K     \u001b[90m━━━━━━━━━━━━━━━━━━━━━━━━━━━━━━━━━━━━━━━━\u001b[0m \u001b[32m7.1/7.1 MB\u001b[0m \u001b[31m43.2 MB/s\u001b[0m eta \u001b[36m0:00:00\u001b[0m00:01\u001b[0m00:01\u001b[0m\n",
      "\u001b[?25hInstalling collected packages: lxml\n",
      "Successfully installed lxml-4.9.2\n",
      "Note: you may need to restart the kernel to use updated packages.\n"
     ]
    }
   ],
   "source": [
    "%pip install beautifulsoup4\n",
    "%pip install lxml"
   ]
  },
  {
   "cell_type": "markdown",
   "metadata": {},
   "source": [
    "(When I installed lxml separate from `beautifulsoup4` during a development round, I found I needed to restart the kernel before it got used. Your experience may vary. In fact, when I ran this demonstration notebook fresh and installed both in one cell, it worked without restarting the kernl. However, doing a restart if of the kernel and trying again is something to keep in mind if you get a note about `lxml` when you try to run the code cell below.)"
   ]
  },
  {
   "cell_type": "markdown",
   "metadata": {},
   "source": [
    "## Basic Usage Example from the source\n",
    "\n",
    "The difference in notebook used is noted under the preparation section."
   ]
  },
  {
   "cell_type": "code",
   "execution_count": 3,
   "metadata": {},
   "outputs": [
    {
     "name": "stdout",
     "output_type": "stream",
     "text": [
      "<div class=\"jp-Cell-inputWrapper\"><div class=\"jp-InputPrompt jp-InputArea-prompt\">\n",
      "</div><div class=\"jp-RenderedHTMLCommon jp-RenderedMarkdown jp-MarkdownOutput\" data-mime-type=\"text/markdown\">\n",
      "<h1 id=\"Problème-de-sélection-du-k-ième-plus-petit-élément-d'un-tableau\">Problème de sélection du k-ième plus petit élément d'un tableau<a class=\"anchor-link\" href=\"#Problème-de-sélection-du-k-ième-plus-petit-élément-d'un-tableau\">¶</a></h1><p>Étant donné un tableau T=[T[0],...,T[n-1]] de $n$ éléments quelconques (par exemple des entiers), et $k\\in\\{1,\\dots,n\\}$, on cherche le k-ième plus petit élément du tableau.</p>\n",
      "<p>Exemple : pour <code>T = [5, 4, 1, 2, 3]</code>, pour <code>k=1</code> on a 1, <code>k=2</code> on a 2, etc.</p>\n",
      "<p>En cas d'éléments distincts, par exemple <code>T = [1, 1, 2, 3]</code>, le 2-ième plus petit peut être définit comme 2, ou comme 1. Il vaut mieux le définir comme 1, ainsi l'élément cherché a toujours un sens.</p>\n",
      "<p>Ce petit <a href=\"https://www.Jupyter.org/\">notebook Python</a> implémente :</p>\n",
      "<ul>\n",
      "<li>un algorithme naïf, qui s'exécute en temps $\\mathcal{O}(k n)$ (pire cas $\\mathcal{O}(n^2)$),</li>\n",
      "<li>une solution naïve qui trie le tableau et lit la k-ième valeur et s'exécute donc en temps $\\mathcal{O}(n \\log(n))$, indépemment de $k$,</li>\n",
      "<li>et un algorithme <strong>optimal</strong> qui s'exécute en temps $\\mathcal{O}(n)$ (on ne peut pas faire mieux car il faut forcément lire le tableau au moins une fois s'il n'est pas trié).</li>\n",
      "</ul>\n",
      "<p>Je fais aussi des expériences numériques pour illustrer empiriquement leurs complexités.</p>\n",
      "<ul>\n",
      "<li>Auteur : <a href=\"https://github.com/Naereen/notebooks/\">Lilian Besson</a></li>\n",
      "<li>Date : 29 septembre 2020</li>\n",
      "<li><a href=\"https://lbesson.mit-license.org\">License : MIT</a></li>\n",
      "</ul>\n",
      "</div>\n",
      "</div>\n"
     ]
    }
   ],
   "source": [
    "%run back_to_the_ipynb_script.py"
   ]
  },
  {
   "cell_type": "markdown",
   "metadata": {},
   "source": [
    "(If you were running that on your own machine and **not in Jupyter**, it would be something like `python back_to_the_ipynb_scriptLOCAL.py` or `python3 back_to_the_ipynb_scriptLOCAL.py`.)"
   ]
  },
  {
   "cell_type": "markdown",
   "metadata": {},
   "source": [
    "Because of the `print(soup.div)` line it prints out some indicator of an early step in the process above. That isn't the result though, and you can feel free to comment out that line to not have that show.\n",
    "\n",
    "To look at the result, double-click on `notebook.ipynb` in the file listing panel on the left to actually open it as a Jupyter notebook.\n",
    "\n",
    "You'll see it isn't perfect, for example, in regards to white space in code cells; however, it is pretty good. In fact, if you look close, you can see this whitespace issue in the post about this converter [here](https://stackoverflow.com/a/47138762/8508004). This is that image:\n",
    "\n",
    "![the example at SO](https://i.stack.imgur.com/1SMvZ.png)."
   ]
  },
  {
   "cell_type": "markdown",
   "metadata": {},
   "source": [
    "(Personally, I would have used [nbformat](https://stackoverflow.com/a/71244733/8508004) to handle the collecting of the cells and generating the notebook. You can find several examples of my use of it [here](https://stackoverflow.com/search?tab=newest&q=user%3a8508004%20nbformat) and [here](https://discourse.jupyter.org/search?q=nbformat%20%40fomightez%20order%3Alatest). However, I don't know if it would improve readbility of the script or ultimate functionality at this point, and so maybe another time.)\n",
    "\n",
    "If your notebook as an HTM fileL is stored online, you should be able to edit the code on line 4 of the original code to substitute your URL for where it says `url =`. And then run the cell above again to obtain your HTML of a Juputer notebook. You'll want to change the `notebook.ipynb` portion of the last line in the code text, where it says `open('notebook.ipynb', 'w').write(json.dumps(dictionary))`, if you want to save it as a different name during the process and not just rename it after. (This is pointed out in the original source in [a comment by drpawelo](https://stackoverflow.com/questions/28972614/jupyter-ipython-notebook-convert-an-html-notebook-to-ipynb#comment109691922_47138762).)"
   ]
  },
  {
   "cell_type": "markdown",
   "metadata": {},
   "source": [
    "## Example of conversion of a local file\n",
    "\n",
    "What if your HTML file is on your local computer? This process will make an HTML file to simulate that here. And then it will be converted by editing the original code. (This section will illustrate the steps pointed out in [a comment by drpawelo](https://stackoverflow.com/questions/28972614/jupyter-ipython-notebook-convert-an-html-notebook-to-ipynb#comment109691922_47138762).)\n",
    "\n",
    "### Preparation: making a local HTML file that's a conversion of a notebook\n",
    "\n",
    "Let's make an HTML file from a notebook here that can be used to demonstrate the process as if you had 'local' HTML files, or at least HTML files not available on the internet yet.\n",
    "\n",
    "First, to make it less confusing we'll get an `.ipynb` file from somewhere else:"
   ]
  },
  {
   "cell_type": "code",
   "execution_count": 4,
   "metadata": {},
   "outputs": [
    {
     "name": "stdout",
     "output_type": "stream",
     "text": [
      "  % Total    % Received % Xferd  Average Speed   Time    Time     Time  Current\n",
      "                                 Dload  Upload   Total   Spent    Left  Speed\n",
      "100  528k  100  528k    0     0  2156k      0 --:--:-- --:--:-- --:--:-- 2156k\n"
     ]
    }
   ],
   "source": [
    "!curl -o seaborn_demo.ipynb -L https://raw.githubusercontent.com/binder-examples/requirements/master/index.ipynb"
   ]
  },
  {
   "cell_type": "markdown",
   "metadata": {},
   "source": [
    "This way we have a new notebook that wasn't among the files here before named `seaborn_demo.ipynb`.  \n",
    "Now, let's convert that to HTML:"
   ]
  },
  {
   "cell_type": "code",
   "execution_count": 5,
   "metadata": {},
   "outputs": [
    {
     "name": "stdout",
     "output_type": "stream",
     "text": [
      "[NbConvertApp] Converting notebook seaborn_demo.ipynb to html\n",
      "[NbConvertApp] Writing 1120133 bytes to seaborn_demo.html\n"
     ]
    }
   ],
   "source": [
    "!jupyter nbconvert seaborn_demo.ipynb --to html"
   ]
  },
  {
   "cell_type": "markdown",
   "metadata": {},
   "source": [
    "Now you should be able to see `seaborn_demo.html` among the files listed at the left. If you want, you can doule-click on it in that list to open it in this session to see the HTML representation rendered."
   ]
  },
  {
   "cell_type": "markdown",
   "metadata": {},
   "source": [
    "Let's delete the source `.ipynb` file so when we make a new version of the notebook file as an `.ipynb` there's no confusion as to the source. This next cell will also run an `ls` to list the files present:"
   ]
  },
  {
   "cell_type": "code",
   "execution_count": 6,
   "metadata": {},
   "outputs": [
    {
     "name": "stdout",
     "output_type": "stream",
     "text": [
      "back_to_the_ipynb_demo.ipynb  notebook.ipynb\tseaborn_demo.html\n",
      "back_to_the_ipynb_script.py   README.md\n",
      "LICENSE\t\t\t      requirements.txt\n"
     ]
    }
   ],
   "source": [
    "!rm seaborn_demo.ipynb;ls"
   ]
  },
  {
   "cell_type": "markdown",
   "metadata": {},
   "source": [
    "`seaborn_demo.ipynb` is no longer present among the files by running `ls`.\n",
    "\n",
    "Now that we have a version of the notebook as an HTML file that is 'local' to this session, we can work on coverting it back to a proper `.ipynb` file using a variation of the code that we used above"
   ]
  },
  {
   "cell_type": "markdown",
   "metadata": {},
   "source": [
    "### Conversion: converting the local HTML file back to an `.ipynb` file\n",
    "\n",
    "Lines 6 and 7 of the original code address how to handle a local HTML file. Shown below are those specific lines:\n",
    "\n",
    "```python\n",
    "#  for local html file\n",
    "# response = open(\"/Users/note/jupyter/notebook.html\")\n",
    "```\n",
    "\n",
    "We are supposed to deduce from examination of those lines, that line six is a comment signaling that the line below is the one we need to address for processing a local file. Line #7 is commented out originally because the code is set up to process a file online. So we can edit line #7 in the original code to specify out 'local' HTML file. It being 'local' to the remote session where you are presumably working. Since it is right in the working directory, we can make the path the file just be the file name. So thost two lines become:\n",
    "\n",
    "```python\n",
    "#  for local html file\n",
    "response = open(\"seaborn_html.ipynb\")\n",
    "```\n",
    "\n",
    "Note that the comment symbol, `#`, gets removed because now we want to run that line to read in the local file now.\n",
    "\n",
    "While we are editing, let's save the file with a different name, too. So the last line goes from having `notebook.ipynb` in `open('notebook.ipynb', 'w').write(json.dumps(dictionary))` to:\n",
    "\n",
    "```python\n",
    "open('seaborn_demoCONVERTED_BACK.ipynb', 'w').write(json.dumps(dictionary))\n",
    "```\n",
    "\n",
    "In fact, we can even remove lines #4 and #5 if we want because that will make things simpler. For example, if the notebook at the `url` gets moved again so it isn't, leaving those lines will cause an error because when executed the code will try to obtain the file even though we don't need it. We only care about the local file. So let's make a new version of the code that is for handling local files only by running the code cell below, and we can call this new script `back_to_the_ipynb_scriptLOCAL.py`.\n",
    "\n",
    "**Importantly, the only line that really needed editing in the original file is line number 7!** The other changes introduced nearly make things easier. **To work with a local HTML file, you just need to uncomment line #7 and change the PATH to point at your file on your system, using either a relative or absolute path.**"
   ]
  },
  {
   "cell_type": "code",
   "execution_count": 7,
   "metadata": {},
   "outputs": [
    {
     "name": "stdout",
     "output_type": "stream",
     "text": [
      "Writing 's' (str) to file 'back_to_the_ipynb_scriptLOCAL.py'.\n"
     ]
    }
   ],
   "source": [
    "s = '''from bs4 import BeautifulSoup\n",
    "import json\n",
    "import urllib.request\n",
    "#  for local html file\n",
    "response = open(\"seaborn_demo.html\")\n",
    "text = response.read()\n",
    "print(text[:100])\n",
    "\n",
    "soup = BeautifulSoup(text, 'lxml')\n",
    "# see some of the html\n",
    "print(soup.div)\n",
    "dictionary = {'nbformat': 4, 'nbformat_minor': 1, 'cells': [], 'metadata': {}}\n",
    "for d in soup.findAll(\"div\"):\n",
    "    if 'class' in d.attrs.keys():\n",
    "        for clas in d.attrs[\"class\"]:\n",
    "            if clas in [\"jp-RenderedMarkdown\", \"jp-InputArea-editor\"]:\n",
    "                # code cell\n",
    "                if clas == \"jp-InputArea-editor\":\n",
    "                    cell = {}\n",
    "                    cell['metadata'] = {}\n",
    "                    #cell['outputs'] = []\n",
    "                    cell['source'] = [d.get_text()]\n",
    "                    cell['execution_count'] = None\n",
    "                    cell['cell_type'] = 'code'\n",
    "                    dictionary['cells'].append(cell)\n",
    "\n",
    "                else:\n",
    "                    cell = {}\n",
    "                    cell['metadata'] = {}\n",
    "\n",
    "                    cell['source'] = [d.decode_contents()]\n",
    "                    cell['cell_type'] = 'markdown'\n",
    "                    dictionary['cells'].append(cell)\n",
    "open('seaborn_demoCONVERTED_BACK.ipynb', 'w').write(json.dumps(dictionary))\n",
    "'''\n",
    "%store s >back_to_the_ipynb_scriptLOCAL.py"
   ]
  },
  {
   "cell_type": "markdown",
   "metadata": {},
   "source": [
    "Let's run that version meant to handle our example 'local' file."
   ]
  },
  {
   "cell_type": "code",
   "execution_count": 8,
   "metadata": {},
   "outputs": [
    {
     "name": "stdout",
     "output_type": "stream",
     "text": [
      "<!DOCTYPE html>\n",
      "<html>\n",
      "<head><meta charset=\"utf-8\" />\n",
      "<meta name=\"viewport\" content=\"width=device-wi\n",
      "<div class=\"jp-Cell jp-MarkdownCell jp-Notebook-cell\">\n",
      "<div class=\"jp-Cell-inputWrapper\">\n",
      "<div class=\"jp-Collapser jp-InputCollapser jp-Cell-inputCollapser\">\n",
      "</div>\n",
      "<div class=\"jp-InputArea jp-Cell-inputArea\"><div class=\"jp-InputPrompt jp-InputArea-prompt\">\n",
      "</div><div class=\"jp-RenderedHTMLCommon jp-RenderedMarkdown jp-MarkdownOutput\" data-mime-type=\"text/markdown\">\n",
      "<h1 id=\"Welcome-to-an-example-Binder\">Welcome to an example Binder<a class=\"anchor-link\" href=\"#Welcome-to-an-example-Binder\">¶</a></h1>\n",
      "</div>\n",
      "</div>\n",
      "</div>\n",
      "</div>\n"
     ]
    }
   ],
   "source": [
    "%run back_to_the_ipynb_scriptLOCAL.py"
   ]
  },
  {
   "cell_type": "markdown",
   "metadata": {},
   "source": [
    "(If you were running that on your own machine and **not in Jupyter**, it would be something like `python back_to_the_ipynb_scriptLOCAL.py` or `python3 back_to_the_ipynb_scriptLOCAL.py`.)"
   ]
  },
  {
   "cell_type": "markdown",
   "metadata": {},
   "source": [
    "Keep in mind if you see `FeatureNotFound: Couldn't find a tree builder with the features you requested: lxml. Do you need to install a parser library?`, just go run the cell containing the following lines above if you havent already again and try restarting the kernel. (It doesn't hurt to run them again even if you already did; however, if you started this notebook again at a later time focused on the 'local' section, you may have skipped over running the earlier lines.)\n",
    "\n",
    "```shell\n",
    "%pip install beautifulsoup4\n",
    "%pip install lxml\n",
    "```\n",
    "\n",
    "If things worked without error, you should see `seaborn_demoCONVERTED_BACK.ipynb` among the list of files:"
   ]
  },
  {
   "cell_type": "code",
   "execution_count": 9,
   "metadata": {},
   "outputs": [
    {
     "name": "stdout",
     "output_type": "stream",
     "text": [
      "back_to_the_ipynb_demo.ipynb      README.md\n",
      "back_to_the_ipynb_scriptLOCAL.py  requirements.txt\n",
      "back_to_the_ipynb_script.py       seaborn_demoCONVERTED_BACK.ipynb\n",
      "LICENSE                           seaborn_demo.html\n",
      "notebook.ipynb\n"
     ]
    }
   ],
   "source": [
    "ls"
   ]
  },
  {
   "cell_type": "markdown",
   "metadata": {},
   "source": [
    "You can double-click on it in the file browser at the left to open it as a notebook and see how it looks. \n",
    "\n",
    "**IT MAY LOOK EMPTY!** Indeed, the example should look empty. (UPDATE!! Now it shouldn't look blank, I think!! It should work as I replaced code above with this version below already now!! The issue is that tags have changed as I referenced earlier above the first code cell. But everything seems to be using new stuff now and so I think more likely it worked!!) \n",
    "DISREGARD THIS PARAGRAPH NOW, I THINK: If your notebook HTML sourced via nbviewer like the original Jake VanderPlas' notebooks referenced, then they will have worked. (For example, someone may have downloaded the HTML source file directly from the nbviewer and trying to convert that.) If **you use current tech to directly convert using nbconvert**, your result will likely be completely empty.  We need to update the tags used in the code to sort cells and elements of the notebook out of the HTML to match what nbconvert is currently generating. (I think that it is nbviewer representation vs. what nbconvert saves that causes the difference in the tags based on examining the HTML code shown for this notebook via nbviewer and seeing it matches the source code tags.) Let's try the example again with different tags:"
   ]
  },
  {
   "cell_type": "code",
   "execution_count": 10,
   "metadata": {},
   "outputs": [
    {
     "name": "stdout",
     "output_type": "stream",
     "text": [
      "Writing 's' (str) to file 'back_to_the_ipynb_scriptLOCAL.py'.\n"
     ]
    }
   ],
   "source": [
    "s = '''from bs4 import BeautifulSoup\n",
    "import json\n",
    "import urllib.request\n",
    "#  for local html file\n",
    "response = open(\"seaborn_demo.html\")\n",
    "text = response.read()\n",
    "\n",
    "soup = BeautifulSoup(text, 'lxml')\n",
    "# see some of the html\n",
    "print(soup.div)\n",
    "dictionary = {'nbformat': 4, 'nbformat_minor': 1, 'cells': [], 'metadata': {}}\n",
    "for d in soup.findAll(\"div\"):\n",
    "    if 'class' in d.attrs.keys():\n",
    "        for clas in d.attrs[\"class\"]:\n",
    "            if clas in [\"jp-RenderedMarkdown\", \"jp-InputArea-editor\"]:\n",
    "                # code cell\n",
    "                if clas == \"jp-InputArea-editor\":\n",
    "                    cell = {}\n",
    "                    cell['metadata'] = {}\n",
    "                    #cell['outputs'] = []\n",
    "                    cell['source'] = [d.get_text()]\n",
    "                    cell['execution_count'] = None\n",
    "                    cell['cell_type'] = 'code'\n",
    "                    dictionary['cells'].append(cell)\n",
    "\n",
    "                else:\n",
    "                    cell = {}\n",
    "                    cell['metadata'] = {}\n",
    "\n",
    "                    cell['source'] = [d.decode_contents()]\n",
    "                    cell['cell_type'] = 'markdown'\n",
    "                    dictionary['cells'].append(cell)\n",
    "open('seaborn_demoCONVERTED_BACK.ipynb', 'w').write(json.dumps(dictionary))\n",
    "'''\n",
    "%store s >back_to_the_ipynb_scriptLOCAL.py"
   ]
  },
  {
   "cell_type": "markdown",
   "metadata": {},
   "source": [
    "For those curious, specifically this section has been altered:\n",
    "\n",
    "```python\n",
    "if clas in [\"jp-RenderedMarkdown\", \"jp-InputArea-editor\"]:\n",
    "    # code cell\n",
    "    if clas == \"jp-InputArea-editor\":\n",
    "```\n",
    "\n",
    "Let's try with the new version:"
   ]
  },
  {
   "cell_type": "code",
   "execution_count": 11,
   "metadata": {},
   "outputs": [
    {
     "name": "stdout",
     "output_type": "stream",
     "text": [
      "<div class=\"jp-Cell jp-MarkdownCell jp-Notebook-cell\">\n",
      "<div class=\"jp-Cell-inputWrapper\">\n",
      "<div class=\"jp-Collapser jp-InputCollapser jp-Cell-inputCollapser\">\n",
      "</div>\n",
      "<div class=\"jp-InputArea jp-Cell-inputArea\"><div class=\"jp-InputPrompt jp-InputArea-prompt\">\n",
      "</div><div class=\"jp-RenderedHTMLCommon jp-RenderedMarkdown jp-MarkdownOutput\" data-mime-type=\"text/markdown\">\n",
      "<h1 id=\"Welcome-to-an-example-Binder\">Welcome to an example Binder<a class=\"anchor-link\" href=\"#Welcome-to-an-example-Binder\">¶</a></h1>\n",
      "</div>\n",
      "</div>\n",
      "</div>\n",
      "</div>\n"
     ]
    }
   ],
   "source": [
    "%run back_to_the_ipynb_scriptLOCAL.py"
   ]
  },
  {
   "cell_type": "markdown",
   "metadata": {},
   "source": [
    "Now if the syntax for notebooks hasn't changed since this was written, you should be able to double-click and open `seaborn_demoCONVERTED_BACK.ipynb` and select `Run All` and the notebook should generate output and look reasonably similar to the [original here](https://nbviewer.org/github/binder-examples/requirements/blob/master/index.ipynb). (The packages needed to run the example have been installed in the sessions to make things easier to run the notebook just as it was. That wasn't done with BeautifulSoup4 and lxml packages by choice as they are not common in data science stacks and wanted to make it obvious they are being used by the code in this notebook.)\n",
    "\n",
    "Note it isn't perfect. For example, the extra white-space and the 'markdown' in the markdown cells may now be HTML. And this example illustrated how you may have to adjust the tags. However, it may be sufficient to get to a point you can edit further, maybe in an automated way if things are consistent enough. (Those chosing automated route may be interested in nbformat that I highlighted parenthetically below the image of the notebook from the basis of this code at StackOverflow.)  **Bear in mind `.ipynb` to HTML is meant to be one-way. BEST TO ALWAYS KEEP YOUR ORIGINAL `.ipynb` files**; clear out output if absolutely necessary to save space.\n",
    "\n",
    "You can drag-and-drop your actual local HTML files that were made from notebooks from your own local computer into the file browser on the left and then change the file names in this section and re-run the code in this section to process your own files.   \n",
    "**If you make something useful, it is important that you promptly download it back to your local computer.** If you are using this notebook as intended, you'll be working in a temporary session on a remote machine. It will go away, along with anything you made there, after some inactivity if you don't download it back to your local machine."
   ]
  },
  {
   "cell_type": "markdown",
   "metadata": {},
   "source": [
    "----\n",
    "\n",
    "Enjoy!"
   ]
  }
 ],
 "metadata": {
  "kernelspec": {
   "display_name": "Python 3 (ipykernel)",
   "language": "python",
   "name": "python3"
  },
  "language_info": {
   "codemirror_mode": {
    "name": "ipython",
    "version": 3
   },
   "file_extension": ".py",
   "mimetype": "text/x-python",
   "name": "python",
   "nbconvert_exporter": "python",
   "pygments_lexer": "ipython3",
   "version": "3.10.9"
  }
 },
 "nbformat": 4,
 "nbformat_minor": 4
}
